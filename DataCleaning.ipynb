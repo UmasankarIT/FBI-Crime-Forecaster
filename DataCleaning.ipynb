{
 "cells": [
  {
   "cell_type": "code",
   "execution_count": 1,
   "id": "f5794983",
   "metadata": {},
   "outputs": [],
   "source": [
    "import pandas as pd\n",
    "import numpy as np\n",
    "import matplotlib.pyplot as plt"
   ]
  },
  {
   "cell_type": "code",
   "execution_count": 17,
   "id": "9417a269",
   "metadata": {},
   "outputs": [],
   "source": [
    "import warnings\n",
    "warnings.filterwarnings('ignore')"
   ]
  },
  {
   "cell_type": "code",
   "execution_count": 2,
   "id": "3cd3a320",
   "metadata": {},
   "outputs": [],
   "source": [
    "df = pd.read_excel('train.xlsx')"
   ]
  },
  {
   "cell_type": "code",
   "execution_count": 3,
   "id": "f93f9292",
   "metadata": {},
   "outputs": [
    {
     "name": "stdout",
     "output_type": "stream",
     "text": [
      "<class 'pandas.core.frame.DataFrame'>\n",
      "RangeIndex: 474565 entries, 0 to 474564\n",
      "Data columns (total 13 columns):\n",
      " #   Column         Non-Null Count   Dtype         \n",
      "---  ------         --------------   -----         \n",
      " 0   TYPE           474565 non-null  object        \n",
      " 1   HUNDRED_BLOCK  474552 non-null  object        \n",
      " 2   NEIGHBOURHOOD  423074 non-null  object        \n",
      " 3   X              474565 non-null  float64       \n",
      " 4   Y              474565 non-null  float64       \n",
      " 5   Latitude       474565 non-null  float64       \n",
      " 6   Longitude      474565 non-null  float64       \n",
      " 7   HOUR           425200 non-null  float64       \n",
      " 8   MINUTE         425200 non-null  float64       \n",
      " 9   YEAR           474565 non-null  int64         \n",
      " 10  MONTH          474565 non-null  int64         \n",
      " 11  DAY            474565 non-null  int64         \n",
      " 12  Date           474565 non-null  datetime64[ns]\n",
      "dtypes: datetime64[ns](1), float64(6), int64(3), object(3)\n",
      "memory usage: 47.1+ MB\n"
     ]
    }
   ],
   "source": [
    "df.info()"
   ]
  },
  {
   "cell_type": "code",
   "execution_count": 4,
   "id": "2fc5fc3e",
   "metadata": {},
   "outputs": [
    {
     "data": {
      "text/html": [
       "<div>\n",
       "<style scoped>\n",
       "    .dataframe tbody tr th:only-of-type {\n",
       "        vertical-align: middle;\n",
       "    }\n",
       "\n",
       "    .dataframe tbody tr th {\n",
       "        vertical-align: top;\n",
       "    }\n",
       "\n",
       "    .dataframe thead th {\n",
       "        text-align: right;\n",
       "    }\n",
       "</style>\n",
       "<table border=\"1\" class=\"dataframe\">\n",
       "  <thead>\n",
       "    <tr style=\"text-align: right;\">\n",
       "      <th></th>\n",
       "      <th>TYPE</th>\n",
       "      <th>HUNDRED_BLOCK</th>\n",
       "      <th>NEIGHBOURHOOD</th>\n",
       "      <th>X</th>\n",
       "      <th>Y</th>\n",
       "      <th>Latitude</th>\n",
       "      <th>Longitude</th>\n",
       "      <th>HOUR</th>\n",
       "      <th>MINUTE</th>\n",
       "      <th>YEAR</th>\n",
       "      <th>MONTH</th>\n",
       "      <th>DAY</th>\n",
       "      <th>Date</th>\n",
       "    </tr>\n",
       "  </thead>\n",
       "  <tbody>\n",
       "    <tr>\n",
       "      <th>0</th>\n",
       "      <td>Other Theft</td>\n",
       "      <td>9XX TERMINAL AVE</td>\n",
       "      <td>Strathcona</td>\n",
       "      <td>493906.5</td>\n",
       "      <td>5457452.47</td>\n",
       "      <td>49.269802</td>\n",
       "      <td>-123.083763</td>\n",
       "      <td>16.0</td>\n",
       "      <td>15.0</td>\n",
       "      <td>1999</td>\n",
       "      <td>5</td>\n",
       "      <td>12</td>\n",
       "      <td>1999-05-12</td>\n",
       "    </tr>\n",
       "    <tr>\n",
       "      <th>1</th>\n",
       "      <td>Other Theft</td>\n",
       "      <td>9XX TERMINAL AVE</td>\n",
       "      <td>Strathcona</td>\n",
       "      <td>493906.5</td>\n",
       "      <td>5457452.47</td>\n",
       "      <td>49.269802</td>\n",
       "      <td>-123.083763</td>\n",
       "      <td>15.0</td>\n",
       "      <td>20.0</td>\n",
       "      <td>1999</td>\n",
       "      <td>5</td>\n",
       "      <td>7</td>\n",
       "      <td>1999-05-07</td>\n",
       "    </tr>\n",
       "    <tr>\n",
       "      <th>2</th>\n",
       "      <td>Other Theft</td>\n",
       "      <td>9XX TERMINAL AVE</td>\n",
       "      <td>Strathcona</td>\n",
       "      <td>493906.5</td>\n",
       "      <td>5457452.47</td>\n",
       "      <td>49.269802</td>\n",
       "      <td>-123.083763</td>\n",
       "      <td>16.0</td>\n",
       "      <td>40.0</td>\n",
       "      <td>1999</td>\n",
       "      <td>4</td>\n",
       "      <td>23</td>\n",
       "      <td>1999-04-23</td>\n",
       "    </tr>\n",
       "    <tr>\n",
       "      <th>3</th>\n",
       "      <td>Other Theft</td>\n",
       "      <td>9XX TERMINAL AVE</td>\n",
       "      <td>Strathcona</td>\n",
       "      <td>493906.5</td>\n",
       "      <td>5457452.47</td>\n",
       "      <td>49.269802</td>\n",
       "      <td>-123.083763</td>\n",
       "      <td>11.0</td>\n",
       "      <td>15.0</td>\n",
       "      <td>1999</td>\n",
       "      <td>4</td>\n",
       "      <td>20</td>\n",
       "      <td>1999-04-20</td>\n",
       "    </tr>\n",
       "    <tr>\n",
       "      <th>4</th>\n",
       "      <td>Other Theft</td>\n",
       "      <td>9XX TERMINAL AVE</td>\n",
       "      <td>Strathcona</td>\n",
       "      <td>493906.5</td>\n",
       "      <td>5457452.47</td>\n",
       "      <td>49.269802</td>\n",
       "      <td>-123.083763</td>\n",
       "      <td>17.0</td>\n",
       "      <td>45.0</td>\n",
       "      <td>1999</td>\n",
       "      <td>4</td>\n",
       "      <td>12</td>\n",
       "      <td>1999-04-12</td>\n",
       "    </tr>\n",
       "  </tbody>\n",
       "</table>\n",
       "</div>"
      ],
      "text/plain": [
       "          TYPE     HUNDRED_BLOCK NEIGHBOURHOOD         X           Y  \\\n",
       "0  Other Theft  9XX TERMINAL AVE    Strathcona  493906.5  5457452.47   \n",
       "1  Other Theft  9XX TERMINAL AVE    Strathcona  493906.5  5457452.47   \n",
       "2  Other Theft  9XX TERMINAL AVE    Strathcona  493906.5  5457452.47   \n",
       "3  Other Theft  9XX TERMINAL AVE    Strathcona  493906.5  5457452.47   \n",
       "4  Other Theft  9XX TERMINAL AVE    Strathcona  493906.5  5457452.47   \n",
       "\n",
       "    Latitude   Longitude  HOUR  MINUTE  YEAR  MONTH  DAY       Date  \n",
       "0  49.269802 -123.083763  16.0    15.0  1999      5   12 1999-05-12  \n",
       "1  49.269802 -123.083763  15.0    20.0  1999      5    7 1999-05-07  \n",
       "2  49.269802 -123.083763  16.0    40.0  1999      4   23 1999-04-23  \n",
       "3  49.269802 -123.083763  11.0    15.0  1999      4   20 1999-04-20  \n",
       "4  49.269802 -123.083763  17.0    45.0  1999      4   12 1999-04-12  "
      ]
     },
     "execution_count": 4,
     "metadata": {},
     "output_type": "execute_result"
    }
   ],
   "source": [
    "df.head()"
   ]
  },
  {
   "cell_type": "code",
   "execution_count": 5,
   "id": "faf079a7",
   "metadata": {},
   "outputs": [
    {
     "data": {
      "text/html": [
       "<div>\n",
       "<style scoped>\n",
       "    .dataframe tbody tr th:only-of-type {\n",
       "        vertical-align: middle;\n",
       "    }\n",
       "\n",
       "    .dataframe tbody tr th {\n",
       "        vertical-align: top;\n",
       "    }\n",
       "\n",
       "    .dataframe thead th {\n",
       "        text-align: right;\n",
       "    }\n",
       "</style>\n",
       "<table border=\"1\" class=\"dataframe\">\n",
       "  <thead>\n",
       "    <tr style=\"text-align: right;\">\n",
       "      <th></th>\n",
       "      <th>TYPE</th>\n",
       "      <th>HUNDRED_BLOCK</th>\n",
       "      <th>NEIGHBOURHOOD</th>\n",
       "      <th>X</th>\n",
       "      <th>Y</th>\n",
       "      <th>Latitude</th>\n",
       "      <th>Longitude</th>\n",
       "      <th>HOUR</th>\n",
       "      <th>MINUTE</th>\n",
       "      <th>YEAR</th>\n",
       "      <th>MONTH</th>\n",
       "      <th>DAY</th>\n",
       "      <th>Date</th>\n",
       "    </tr>\n",
       "  </thead>\n",
       "  <tbody>\n",
       "    <tr>\n",
       "      <th>474560</th>\n",
       "      <td>Theft from Vehicle</td>\n",
       "      <td>E 28TH AVE / FRASER ST</td>\n",
       "      <td>Riley Park</td>\n",
       "      <td>493434.25</td>\n",
       "      <td>5454756.06</td>\n",
       "      <td>49.245542</td>\n",
       "      <td>-123.090211</td>\n",
       "      <td>19.0</td>\n",
       "      <td>0.0</td>\n",
       "      <td>2011</td>\n",
       "      <td>10</td>\n",
       "      <td>29</td>\n",
       "      <td>2011-10-29</td>\n",
       "    </tr>\n",
       "    <tr>\n",
       "      <th>474561</th>\n",
       "      <td>Theft from Vehicle</td>\n",
       "      <td>E 28TH AVE / FRASER ST</td>\n",
       "      <td>Riley Park</td>\n",
       "      <td>493434.25</td>\n",
       "      <td>5454756.06</td>\n",
       "      <td>49.245542</td>\n",
       "      <td>-123.090211</td>\n",
       "      <td>23.0</td>\n",
       "      <td>0.0</td>\n",
       "      <td>2011</td>\n",
       "      <td>3</td>\n",
       "      <td>9</td>\n",
       "      <td>2011-03-09</td>\n",
       "    </tr>\n",
       "    <tr>\n",
       "      <th>474562</th>\n",
       "      <td>Other Theft</td>\n",
       "      <td>23XX CAMBIE ST</td>\n",
       "      <td>Mount Pleasant</td>\n",
       "      <td>491656.42</td>\n",
       "      <td>5456901.55</td>\n",
       "      <td>49.264820</td>\n",
       "      <td>-123.114682</td>\n",
       "      <td>17.0</td>\n",
       "      <td>52.0</td>\n",
       "      <td>2011</td>\n",
       "      <td>2</td>\n",
       "      <td>10</td>\n",
       "      <td>2011-02-10</td>\n",
       "    </tr>\n",
       "    <tr>\n",
       "      <th>474563</th>\n",
       "      <td>Other Theft</td>\n",
       "      <td>7XX BUTE ST</td>\n",
       "      <td>West End</td>\n",
       "      <td>490797.66</td>\n",
       "      <td>5459282.31</td>\n",
       "      <td>49.286223</td>\n",
       "      <td>-123.126541</td>\n",
       "      <td>18.0</td>\n",
       "      <td>0.0</td>\n",
       "      <td>2011</td>\n",
       "      <td>12</td>\n",
       "      <td>20</td>\n",
       "      <td>2011-12-20</td>\n",
       "    </tr>\n",
       "    <tr>\n",
       "      <th>474564</th>\n",
       "      <td>Mischief</td>\n",
       "      <td>57XX MAIN ST</td>\n",
       "      <td>Sunset</td>\n",
       "      <td>492605.32</td>\n",
       "      <td>5453354.38</td>\n",
       "      <td>49.232924</td>\n",
       "      <td>-123.101574</td>\n",
       "      <td>18.0</td>\n",
       "      <td>30.0</td>\n",
       "      <td>2011</td>\n",
       "      <td>2</td>\n",
       "      <td>3</td>\n",
       "      <td>2011-02-03</td>\n",
       "    </tr>\n",
       "  </tbody>\n",
       "</table>\n",
       "</div>"
      ],
      "text/plain": [
       "                      TYPE           HUNDRED_BLOCK   NEIGHBOURHOOD          X  \\\n",
       "474560  Theft from Vehicle  E 28TH AVE / FRASER ST      Riley Park  493434.25   \n",
       "474561  Theft from Vehicle  E 28TH AVE / FRASER ST      Riley Park  493434.25   \n",
       "474562         Other Theft          23XX CAMBIE ST  Mount Pleasant  491656.42   \n",
       "474563         Other Theft             7XX BUTE ST        West End  490797.66   \n",
       "474564            Mischief            57XX MAIN ST          Sunset  492605.32   \n",
       "\n",
       "                 Y   Latitude   Longitude  HOUR  MINUTE  YEAR  MONTH  DAY  \\\n",
       "474560  5454756.06  49.245542 -123.090211  19.0     0.0  2011     10   29   \n",
       "474561  5454756.06  49.245542 -123.090211  23.0     0.0  2011      3    9   \n",
       "474562  5456901.55  49.264820 -123.114682  17.0    52.0  2011      2   10   \n",
       "474563  5459282.31  49.286223 -123.126541  18.0     0.0  2011     12   20   \n",
       "474564  5453354.38  49.232924 -123.101574  18.0    30.0  2011      2    3   \n",
       "\n",
       "             Date  \n",
       "474560 2011-10-29  \n",
       "474561 2011-03-09  \n",
       "474562 2011-02-10  \n",
       "474563 2011-12-20  \n",
       "474564 2011-02-03  "
      ]
     },
     "execution_count": 5,
     "metadata": {},
     "output_type": "execute_result"
    }
   ],
   "source": [
    "df.tail()"
   ]
  },
  {
   "cell_type": "code",
   "execution_count": 6,
   "id": "a85226e7",
   "metadata": {},
   "outputs": [
    {
     "data": {
      "text/plain": [
       "Index(['TYPE', 'HUNDRED_BLOCK', 'NEIGHBOURHOOD', 'X', 'Y', 'Latitude',\n",
       "       'Longitude', 'HOUR', 'MINUTE', 'YEAR', 'MONTH', 'DAY', 'Date'],\n",
       "      dtype='object')"
      ]
     },
     "execution_count": 6,
     "metadata": {},
     "output_type": "execute_result"
    }
   ],
   "source": [
    "df.columns"
   ]
  },
  {
   "cell_type": "code",
   "execution_count": 12,
   "id": "f3daa250",
   "metadata": {},
   "outputs": [
    {
     "name": "stdout",
     "output_type": "stream",
     "text": [
      "[\"'TYPE'\", \"'HUNDRED_BLOCK'\", \"'NEIGHBOURHOOD'\", \"'X'\", \"'Y'\", \"'Latitude'\", \"'Longitude'\", \"'HOUR'\", \"'MINUTE'\", \"'YEAR'\", \"'MONTH'\", \"'DAY'\", \"'Date'\"]\n"
     ]
    }
   ],
   "source": [
    "print([repr(col) for col in df.columns])"
   ]
  },
  {
   "cell_type": "code",
   "execution_count": 7,
   "id": "8b796eec",
   "metadata": {},
   "outputs": [
    {
     "data": {
      "text/html": [
       "<div>\n",
       "<style scoped>\n",
       "    .dataframe tbody tr th:only-of-type {\n",
       "        vertical-align: middle;\n",
       "    }\n",
       "\n",
       "    .dataframe tbody tr th {\n",
       "        vertical-align: top;\n",
       "    }\n",
       "\n",
       "    .dataframe thead th {\n",
       "        text-align: right;\n",
       "    }\n",
       "</style>\n",
       "<table border=\"1\" class=\"dataframe\">\n",
       "  <thead>\n",
       "    <tr style=\"text-align: right;\">\n",
       "      <th></th>\n",
       "      <th>X</th>\n",
       "      <th>Y</th>\n",
       "      <th>Latitude</th>\n",
       "      <th>Longitude</th>\n",
       "      <th>HOUR</th>\n",
       "      <th>MINUTE</th>\n",
       "      <th>YEAR</th>\n",
       "      <th>MONTH</th>\n",
       "      <th>DAY</th>\n",
       "      <th>Date</th>\n",
       "    </tr>\n",
       "  </thead>\n",
       "  <tbody>\n",
       "    <tr>\n",
       "      <th>count</th>\n",
       "      <td>474565.000000</td>\n",
       "      <td>4.745650e+05</td>\n",
       "      <td>474565.000000</td>\n",
       "      <td>474565.000000</td>\n",
       "      <td>425200.000000</td>\n",
       "      <td>425200.000000</td>\n",
       "      <td>474565.000000</td>\n",
       "      <td>474565.000000</td>\n",
       "      <td>474565.000000</td>\n",
       "      <td>474565</td>\n",
       "    </tr>\n",
       "    <tr>\n",
       "      <th>mean</th>\n",
       "      <td>441028.018220</td>\n",
       "      <td>4.889023e+06</td>\n",
       "      <td>44.138029</td>\n",
       "      <td>-110.301025</td>\n",
       "      <td>13.721263</td>\n",
       "      <td>16.736047</td>\n",
       "      <td>2004.363632</td>\n",
       "      <td>6.555700</td>\n",
       "      <td>15.439253</td>\n",
       "      <td>2004-11-11 23:51:07.470209792</td>\n",
       "    </tr>\n",
       "    <tr>\n",
       "      <th>min</th>\n",
       "      <td>0.000000</td>\n",
       "      <td>0.000000e+00</td>\n",
       "      <td>0.000000</td>\n",
       "      <td>-124.549757</td>\n",
       "      <td>0.000000</td>\n",
       "      <td>0.000000</td>\n",
       "      <td>1999.000000</td>\n",
       "      <td>1.000000</td>\n",
       "      <td>1.000000</td>\n",
       "      <td>1999-01-01 00:00:00</td>\n",
       "    </tr>\n",
       "    <tr>\n",
       "      <th>25%</th>\n",
       "      <td>489916.530000</td>\n",
       "      <td>5.453572e+06</td>\n",
       "      <td>49.234871</td>\n",
       "      <td>-123.127383</td>\n",
       "      <td>9.000000</td>\n",
       "      <td>0.000000</td>\n",
       "      <td>2001.000000</td>\n",
       "      <td>4.000000</td>\n",
       "      <td>8.000000</td>\n",
       "      <td>2001-06-06 00:00:00</td>\n",
       "    </tr>\n",
       "    <tr>\n",
       "      <th>50%</th>\n",
       "      <td>491477.850000</td>\n",
       "      <td>5.456820e+06</td>\n",
       "      <td>49.264051</td>\n",
       "      <td>-123.107058</td>\n",
       "      <td>15.000000</td>\n",
       "      <td>10.000000</td>\n",
       "      <td>2004.000000</td>\n",
       "      <td>7.000000</td>\n",
       "      <td>15.000000</td>\n",
       "      <td>2004-05-18 00:00:00</td>\n",
       "    </tr>\n",
       "    <tr>\n",
       "      <th>75%</th>\n",
       "      <td>493610.190000</td>\n",
       "      <td>5.458622e+06</td>\n",
       "      <td>49.280300</td>\n",
       "      <td>-123.065646</td>\n",
       "      <td>19.000000</td>\n",
       "      <td>30.000000</td>\n",
       "      <td>2008.000000</td>\n",
       "      <td>9.000000</td>\n",
       "      <td>23.000000</td>\n",
       "      <td>2008-03-27 00:00:00</td>\n",
       "    </tr>\n",
       "    <tr>\n",
       "      <th>max</th>\n",
       "      <td>511303.000000</td>\n",
       "      <td>5.512579e+06</td>\n",
       "      <td>49.755314</td>\n",
       "      <td>0.000000</td>\n",
       "      <td>23.000000</td>\n",
       "      <td>59.000000</td>\n",
       "      <td>2011.000000</td>\n",
       "      <td>12.000000</td>\n",
       "      <td>31.000000</td>\n",
       "      <td>2011-12-31 00:00:00</td>\n",
       "    </tr>\n",
       "    <tr>\n",
       "      <th>std</th>\n",
       "      <td>150295.319332</td>\n",
       "      <td>1.665850e+06</td>\n",
       "      <td>15.039271</td>\n",
       "      <td>37.583147</td>\n",
       "      <td>6.785751</td>\n",
       "      <td>18.354675</td>\n",
       "      <td>3.850689</td>\n",
       "      <td>3.408676</td>\n",
       "      <td>8.759352</td>\n",
       "      <td>NaN</td>\n",
       "    </tr>\n",
       "  </tbody>\n",
       "</table>\n",
       "</div>"
      ],
      "text/plain": [
       "                   X             Y       Latitude      Longitude  \\\n",
       "count  474565.000000  4.745650e+05  474565.000000  474565.000000   \n",
       "mean   441028.018220  4.889023e+06      44.138029    -110.301025   \n",
       "min         0.000000  0.000000e+00       0.000000    -124.549757   \n",
       "25%    489916.530000  5.453572e+06      49.234871    -123.127383   \n",
       "50%    491477.850000  5.456820e+06      49.264051    -123.107058   \n",
       "75%    493610.190000  5.458622e+06      49.280300    -123.065646   \n",
       "max    511303.000000  5.512579e+06      49.755314       0.000000   \n",
       "std    150295.319332  1.665850e+06      15.039271      37.583147   \n",
       "\n",
       "                HOUR         MINUTE           YEAR          MONTH  \\\n",
       "count  425200.000000  425200.000000  474565.000000  474565.000000   \n",
       "mean       13.721263      16.736047    2004.363632       6.555700   \n",
       "min         0.000000       0.000000    1999.000000       1.000000   \n",
       "25%         9.000000       0.000000    2001.000000       4.000000   \n",
       "50%        15.000000      10.000000    2004.000000       7.000000   \n",
       "75%        19.000000      30.000000    2008.000000       9.000000   \n",
       "max        23.000000      59.000000    2011.000000      12.000000   \n",
       "std         6.785751      18.354675       3.850689       3.408676   \n",
       "\n",
       "                 DAY                           Date  \n",
       "count  474565.000000                         474565  \n",
       "mean       15.439253  2004-11-11 23:51:07.470209792  \n",
       "min         1.000000            1999-01-01 00:00:00  \n",
       "25%         8.000000            2001-06-06 00:00:00  \n",
       "50%        15.000000            2004-05-18 00:00:00  \n",
       "75%        23.000000            2008-03-27 00:00:00  \n",
       "max        31.000000            2011-12-31 00:00:00  \n",
       "std         8.759352                            NaN  "
      ]
     },
     "execution_count": 7,
     "metadata": {},
     "output_type": "execute_result"
    }
   ],
   "source": [
    "df.describe()"
   ]
  },
  {
   "cell_type": "code",
   "execution_count": 8,
   "id": "6fcaa34c",
   "metadata": {},
   "outputs": [
    {
     "data": {
      "text/plain": [
       "TYPE                 0\n",
       "HUNDRED_BLOCK       13\n",
       "NEIGHBOURHOOD    51491\n",
       "X                    0\n",
       "Y                    0\n",
       "Latitude             0\n",
       "Longitude            0\n",
       "HOUR             49365\n",
       "MINUTE           49365\n",
       "YEAR                 0\n",
       "MONTH                0\n",
       "DAY                  0\n",
       "Date                 0\n",
       "dtype: int64"
      ]
     },
     "execution_count": 8,
     "metadata": {},
     "output_type": "execute_result"
    }
   ],
   "source": [
    "df.isnull().sum()"
   ]
  },
  {
   "cell_type": "code",
   "execution_count": 9,
   "id": "89553c9f",
   "metadata": {},
   "outputs": [
    {
     "data": {
      "text/plain": [
       "np.int64(44618)"
      ]
     },
     "execution_count": 9,
     "metadata": {},
     "output_type": "execute_result"
    }
   ],
   "source": [
    "df.duplicated().sum()"
   ]
  },
  {
   "cell_type": "code",
   "execution_count": 18,
   "id": "c22d8def",
   "metadata": {},
   "outputs": [
    {
     "name": "stdout",
     "output_type": "stream",
     "text": [
      "int64\n"
     ]
    }
   ],
   "source": [
    "# Make sure it's numeric\n",
    "df['HOUR'] = pd.to_numeric(df['HOUR'], errors='coerce')\n",
    "\n",
    "# Fill NaN with 0\n",
    "df['HOUR'].fillna(0, inplace=True)\n",
    "\n",
    "# Convert to integer\n",
    "df['HOUR'] = df['HOUR'].astype(int)\n",
    "\n",
    "print(df['HOUR'].dtype)"
   ]
  },
  {
   "cell_type": "code",
   "execution_count": 19,
   "id": "09ab9875",
   "metadata": {},
   "outputs": [
    {
     "name": "stdout",
     "output_type": "stream",
     "text": [
      "int64\n"
     ]
    }
   ],
   "source": [
    "df['MINUTE'] = pd.to_numeric(df['MINUTE'], errors='coerce')\n",
    "\n",
    "df['MINUTE'].fillna(0, inplace=True)\n",
    "\n",
    "df['MINUTE'] = df['MINUTE'].astype(int)\n",
    "\n",
    "print(df['MINUTE'].dtype)"
   ]
  },
  {
   "cell_type": "code",
   "execution_count": 27,
   "id": "6f032515",
   "metadata": {},
   "outputs": [
    {
     "name": "stdout",
     "output_type": "stream",
     "text": [
      "HOUR      0\n",
      "MINUTE    0\n",
      "dtype: int64\n"
     ]
    }
   ],
   "source": [
    "df['MINUTE'] = pd.to_numeric(df['MINUTE'], errors='coerce')\n",
    "\n",
    "df['MINUTE'].replace(['', ' ', None], np.nan)\n",
    "\n",
    "df['MINUTE'].fillna(0)\n",
    "\n",
    "print(df[['HOUR','MINUTE']].isna().sum())"
   ]
  },
  {
   "cell_type": "code",
   "execution_count": 25,
   "id": "dd740e5e",
   "metadata": {},
   "outputs": [],
   "source": [
    "df['HUNDRED_BLOCK'].fillna('UNKNOWN', inplace = True)\n",
    "df['HUNDRED_BLOCK'] = df['HUNDRED_BLOCK'].fillna('UNKNOWN')\n"
   ]
  },
  {
   "cell_type": "code",
   "execution_count": 26,
   "id": "8b390edb",
   "metadata": {},
   "outputs": [
    {
     "data": {
      "text/plain": [
       "TYPE                 0\n",
       "HUNDRED_BLOCK        0\n",
       "NEIGHBOURHOOD    51491\n",
       "X                    0\n",
       "Y                    0\n",
       "Latitude             0\n",
       "Longitude            0\n",
       "HOUR                 0\n",
       "MINUTE               0\n",
       "YEAR                 0\n",
       "MONTH                0\n",
       "DAY                  0\n",
       "Date                 0\n",
       "dtype: int64"
      ]
     },
     "execution_count": 26,
     "metadata": {},
     "output_type": "execute_result"
    }
   ],
   "source": [
    "df.isnull().sum()"
   ]
  },
  {
   "cell_type": "code",
   "execution_count": null,
   "id": "72615c50",
   "metadata": {},
   "outputs": [],
   "source": [
    "import numpy as np\n",
    "\n",
    "df['NEIGHBOURHOOD'].replace(['', ' ', None], np.nan, inplace=True)\n",
    "df['NEIGHBOURHOOD'].fillna('UNKNOWN', inplace=True)\n"
   ]
  },
  {
   "cell_type": "code",
   "execution_count": 32,
   "id": "c6f97950",
   "metadata": {},
   "outputs": [
    {
     "data": {
      "text/plain": [
       "TYPE             0\n",
       "HUNDRED_BLOCK    0\n",
       "NEIGHBOURHOOD    0\n",
       "X                0\n",
       "Y                0\n",
       "Latitude         0\n",
       "Longitude        0\n",
       "HOUR             0\n",
       "MINUTE           0\n",
       "YEAR             0\n",
       "MONTH            0\n",
       "DAY              0\n",
       "Date             0\n",
       "dtype: int64"
      ]
     },
     "execution_count": 32,
     "metadata": {},
     "output_type": "execute_result"
    }
   ],
   "source": [
    "df.isnull().sum()"
   ]
  },
  {
   "cell_type": "code",
   "execution_count": 33,
   "id": "dd54b7df",
   "metadata": {},
   "outputs": [
    {
     "name": "stdout",
     "output_type": "stream",
     "text": [
      "Number of duplicate rows: 44618\n"
     ]
    }
   ],
   "source": [
    "# Count duplicates\n",
    "duplicate_count = df.duplicated().sum()\n",
    "print(f\"Number of duplicate rows: {duplicate_count}\")\n",
    "\n",
    "# Show some duplicates\n",
    "# print(df[df.duplicated()].head())"
   ]
  },
  {
   "cell_type": "code",
   "execution_count": 34,
   "id": "8bff66be",
   "metadata": {},
   "outputs": [
    {
     "name": "stdout",
     "output_type": "stream",
     "text": [
      "0\n"
     ]
    }
   ],
   "source": [
    "df.drop_duplicates(inplace=True)\n",
    "print(df.duplicated().sum())  # should be 0 after drop_duplicates\n"
   ]
  },
  {
   "cell_type": "code",
   "execution_count": 35,
   "id": "f954f8e6",
   "metadata": {},
   "outputs": [
    {
     "name": "stdout",
     "output_type": "stream",
     "text": [
      "(429947, 13)\n"
     ]
    }
   ],
   "source": [
    "print(df.shape)"
   ]
  },
  {
   "cell_type": "code",
   "execution_count": 36,
   "id": "e8c6e5ea",
   "metadata": {},
   "outputs": [],
   "source": [
    "df.to_excel('FBI_dataset_cleaned.xlsx', index=False)\n"
   ]
  },
  {
   "cell_type": "code",
   "execution_count": 2,
   "id": "efdd5998",
   "metadata": {},
   "outputs": [
    {
     "name": "stdout",
     "output_type": "stream",
     "text": [
      "<class 'pandas.core.frame.DataFrame'>\n",
      "RangeIndex: 429947 entries, 0 to 429946\n",
      "Data columns (total 13 columns):\n",
      " #   Column         Non-Null Count   Dtype         \n",
      "---  ------         --------------   -----         \n",
      " 0   TYPE           429947 non-null  object        \n",
      " 1   HUNDRED_BLOCK  429947 non-null  object        \n",
      " 2   NEIGHBOURHOOD  429947 non-null  object        \n",
      " 3   X              429947 non-null  float64       \n",
      " 4   Y              429947 non-null  float64       \n",
      " 5   Latitude       429947 non-null  float64       \n",
      " 6   Longitude      429947 non-null  float64       \n",
      " 7   HOUR           429947 non-null  int64         \n",
      " 8   MINUTE         429947 non-null  int64         \n",
      " 9   YEAR           429947 non-null  int64         \n",
      " 10  MONTH          429947 non-null  int64         \n",
      " 11  DAY            429947 non-null  int64         \n",
      " 12  Date           429947 non-null  datetime64[ns]\n",
      "dtypes: datetime64[ns](1), float64(4), int64(5), object(3)\n",
      "memory usage: 42.6+ MB\n"
     ]
    }
   ],
   "source": [
    "df.info()"
   ]
  },
  {
   "cell_type": "code",
   "execution_count": 3,
   "id": "9aa25d14",
   "metadata": {},
   "outputs": [
    {
     "data": {
      "text/plain": [
       "(429947, 13)"
      ]
     },
     "execution_count": 3,
     "metadata": {},
     "output_type": "execute_result"
    }
   ],
   "source": [
    "df.shape"
   ]
  },
  {
   "cell_type": "code",
   "execution_count": 4,
   "id": "76a12712",
   "metadata": {},
   "outputs": [
    {
     "data": {
      "text/html": [
       "<div>\n",
       "<style scoped>\n",
       "    .dataframe tbody tr th:only-of-type {\n",
       "        vertical-align: middle;\n",
       "    }\n",
       "\n",
       "    .dataframe tbody tr th {\n",
       "        vertical-align: top;\n",
       "    }\n",
       "\n",
       "    .dataframe thead th {\n",
       "        text-align: right;\n",
       "    }\n",
       "</style>\n",
       "<table border=\"1\" class=\"dataframe\">\n",
       "  <thead>\n",
       "    <tr style=\"text-align: right;\">\n",
       "      <th></th>\n",
       "      <th>X</th>\n",
       "      <th>Y</th>\n",
       "      <th>Latitude</th>\n",
       "      <th>Longitude</th>\n",
       "      <th>HOUR</th>\n",
       "      <th>MINUTE</th>\n",
       "      <th>YEAR</th>\n",
       "      <th>MONTH</th>\n",
       "      <th>DAY</th>\n",
       "      <th>Date</th>\n",
       "    </tr>\n",
       "  </thead>\n",
       "  <tbody>\n",
       "    <tr>\n",
       "      <th>count</th>\n",
       "      <td>429947.000000</td>\n",
       "      <td>4.299470e+05</td>\n",
       "      <td>429947.000000</td>\n",
       "      <td>429947.000000</td>\n",
       "      <td>429947.000000</td>\n",
       "      <td>429947.000000</td>\n",
       "      <td>429947.000000</td>\n",
       "      <td>429947.000000</td>\n",
       "      <td>429947.000000</td>\n",
       "      <td>429947</td>\n",
       "    </tr>\n",
       "    <tr>\n",
       "      <th>mean</th>\n",
       "      <td>486795.957331</td>\n",
       "      <td>5.396384e+06</td>\n",
       "      <td>48.718479</td>\n",
       "      <td>-121.747578</td>\n",
       "      <td>13.569768</td>\n",
       "      <td>16.551266</td>\n",
       "      <td>2004.317976</td>\n",
       "      <td>6.558620</td>\n",
       "      <td>15.431262</td>\n",
       "      <td>2004-10-26 09:34:26.998025472</td>\n",
       "    </tr>\n",
       "    <tr>\n",
       "      <th>min</th>\n",
       "      <td>0.000000</td>\n",
       "      <td>0.000000e+00</td>\n",
       "      <td>0.000000</td>\n",
       "      <td>-124.549757</td>\n",
       "      <td>0.000000</td>\n",
       "      <td>0.000000</td>\n",
       "      <td>1999.000000</td>\n",
       "      <td>1.000000</td>\n",
       "      <td>1.000000</td>\n",
       "      <td>1999-01-01 00:00:00</td>\n",
       "    </tr>\n",
       "    <tr>\n",
       "      <th>25%</th>\n",
       "      <td>490519.870000</td>\n",
       "      <td>5.454950e+06</td>\n",
       "      <td>49.247273</td>\n",
       "      <td>-123.129406</td>\n",
       "      <td>9.000000</td>\n",
       "      <td>0.000000</td>\n",
       "      <td>2001.000000</td>\n",
       "      <td>4.000000</td>\n",
       "      <td>8.000000</td>\n",
       "      <td>2001-05-11 00:00:00</td>\n",
       "    </tr>\n",
       "    <tr>\n",
       "      <th>50%</th>\n",
       "      <td>491714.780000</td>\n",
       "      <td>5.457145e+06</td>\n",
       "      <td>49.266987</td>\n",
       "      <td>-123.112944</td>\n",
       "      <td>15.000000</td>\n",
       "      <td>9.000000</td>\n",
       "      <td>2004.000000</td>\n",
       "      <td>7.000000</td>\n",
       "      <td>15.000000</td>\n",
       "      <td>2004-04-16 00:00:00</td>\n",
       "    </tr>\n",
       "    <tr>\n",
       "      <th>75%</th>\n",
       "      <td>494084.690000</td>\n",
       "      <td>5.458710e+06</td>\n",
       "      <td>49.281122</td>\n",
       "      <td>-123.078155</td>\n",
       "      <td>19.000000</td>\n",
       "      <td>30.000000</td>\n",
       "      <td>2008.000000</td>\n",
       "      <td>9.000000</td>\n",
       "      <td>23.000000</td>\n",
       "      <td>2008-03-20 00:00:00</td>\n",
       "    </tr>\n",
       "    <tr>\n",
       "      <th>max</th>\n",
       "      <td>511303.000000</td>\n",
       "      <td>5.512579e+06</td>\n",
       "      <td>49.755314</td>\n",
       "      <td>0.000000</td>\n",
       "      <td>23.000000</td>\n",
       "      <td>59.000000</td>\n",
       "      <td>2011.000000</td>\n",
       "      <td>12.000000</td>\n",
       "      <td>31.000000</td>\n",
       "      <td>2011-12-31 00:00:00</td>\n",
       "    </tr>\n",
       "    <tr>\n",
       "      <th>std</th>\n",
       "      <td>51508.665577</td>\n",
       "      <td>5.701912e+05</td>\n",
       "      <td>5.147678</td>\n",
       "      <td>12.863990</td>\n",
       "      <td>6.898825</td>\n",
       "      <td>18.336653</td>\n",
       "      <td>3.872192</td>\n",
       "      <td>3.408383</td>\n",
       "      <td>8.734975</td>\n",
       "      <td>NaN</td>\n",
       "    </tr>\n",
       "  </tbody>\n",
       "</table>\n",
       "</div>"
      ],
      "text/plain": [
       "                   X             Y       Latitude      Longitude  \\\n",
       "count  429947.000000  4.299470e+05  429947.000000  429947.000000   \n",
       "mean   486795.957331  5.396384e+06      48.718479    -121.747578   \n",
       "min         0.000000  0.000000e+00       0.000000    -124.549757   \n",
       "25%    490519.870000  5.454950e+06      49.247273    -123.129406   \n",
       "50%    491714.780000  5.457145e+06      49.266987    -123.112944   \n",
       "75%    494084.690000  5.458710e+06      49.281122    -123.078155   \n",
       "max    511303.000000  5.512579e+06      49.755314       0.000000   \n",
       "std     51508.665577  5.701912e+05       5.147678      12.863990   \n",
       "\n",
       "                HOUR         MINUTE           YEAR          MONTH  \\\n",
       "count  429947.000000  429947.000000  429947.000000  429947.000000   \n",
       "mean       13.569768      16.551266    2004.317976       6.558620   \n",
       "min         0.000000       0.000000    1999.000000       1.000000   \n",
       "25%         9.000000       0.000000    2001.000000       4.000000   \n",
       "50%        15.000000       9.000000    2004.000000       7.000000   \n",
       "75%        19.000000      30.000000    2008.000000       9.000000   \n",
       "max        23.000000      59.000000    2011.000000      12.000000   \n",
       "std         6.898825      18.336653       3.872192       3.408383   \n",
       "\n",
       "                 DAY                           Date  \n",
       "count  429947.000000                         429947  \n",
       "mean       15.431262  2004-10-26 09:34:26.998025472  \n",
       "min         1.000000            1999-01-01 00:00:00  \n",
       "25%         8.000000            2001-05-11 00:00:00  \n",
       "50%        15.000000            2004-04-16 00:00:00  \n",
       "75%        23.000000            2008-03-20 00:00:00  \n",
       "max        31.000000            2011-12-31 00:00:00  \n",
       "std         8.734975                            NaN  "
      ]
     },
     "execution_count": 4,
     "metadata": {},
     "output_type": "execute_result"
    }
   ],
   "source": [
    "df.describe()"
   ]
  },
  {
   "cell_type": "code",
   "execution_count": 5,
   "id": "adc9945c",
   "metadata": {},
   "outputs": [
    {
     "data": {
      "text/plain": [
       "Index(['TYPE', 'HUNDRED_BLOCK', 'NEIGHBOURHOOD', 'X', 'Y', 'Latitude',\n",
       "       'Longitude', 'HOUR', 'MINUTE', 'YEAR', 'MONTH', 'DAY', 'Date'],\n",
       "      dtype='object')"
      ]
     },
     "execution_count": 5,
     "metadata": {},
     "output_type": "execute_result"
    }
   ],
   "source": [
    "df.columns"
   ]
  },
  {
   "cell_type": "code",
   "execution_count": 6,
   "id": "c3c3b560",
   "metadata": {},
   "outputs": [
    {
     "data": {
      "text/plain": [
       "429947"
      ]
     },
     "execution_count": 6,
     "metadata": {},
     "output_type": "execute_result"
    }
   ],
   "source": [
    "len(df)"
   ]
  },
  {
   "cell_type": "code",
   "execution_count": 7,
   "id": "7be2d9d7",
   "metadata": {},
   "outputs": [
    {
     "name": "stdout",
     "output_type": "stream",
     "text": [
      "NEIGHBOURHOOD\n",
      "Central Business District    96171\n",
      "West End                     36954\n",
      "Fairview                     29377\n",
      "Mount Pleasant               26879\n",
      "Grandview-Woodland           24333\n",
      "Kitsilano                    24118\n",
      "Renfrew-Collingwood          24092\n",
      "Kensington-Cedar Cottage     22708\n",
      "Strathcona                   18281\n",
      "Hastings-Sunrise             16378\n",
      "Name: count, dtype: int64\n"
     ]
    }
   ],
   "source": [
    "#Top 10 neighbourhoods\n",
    "print(df['NEIGHBOURHOOD'].value_counts().head(10))"
   ]
  },
  {
   "cell_type": "code",
   "execution_count": 8,
   "id": "dda4c5c6",
   "metadata": {},
   "outputs": [
    {
     "name": "stdout",
     "output_type": "stream",
     "text": [
      "NEIGHBOURHOOD\n",
      "Central Business District    96171\n",
      "West End                     36954\n",
      "Fairview                     29377\n",
      "Mount Pleasant               26879\n",
      "Grandview-Woodland           24333\n",
      "Kitsilano                    24118\n",
      "Renfrew-Collingwood          24092\n",
      "Kensington-Cedar Cottage     22708\n",
      "Strathcona                   18281\n",
      "Hastings-Sunrise             16378\n",
      "Sunset                       15991\n",
      "Marpole                      11836\n",
      "Riley Park                   11164\n",
      "Victoria-Fraserview           9883\n",
      "Killarney                     9657\n",
      "Oakridge                      7221\n",
      "Dunbar-Southlands             7106\n",
      "UNKNOWN                       6873\n",
      "Kerrisdale                    6766\n",
      "Arbutus Ridge                 5431\n",
      "West Point Grey               5262\n",
      "Shaughnessy                   4773\n",
      "South Cambie                  4658\n",
      "Stanley Park                  3532\n",
      "Musqueam                       503\n",
      "Name: count, dtype: int64\n"
     ]
    }
   ],
   "source": [
    "#crime count area wise\n",
    "neigh = df['NEIGHBOURHOOD'].value_counts()\n",
    "print(neigh)"
   ]
  },
  {
   "cell_type": "code",
   "execution_count": 9,
   "id": "21f18d38",
   "metadata": {},
   "outputs": [
    {
     "data": {
      "text/plain": [
       "Index(['Central Business District', 'West End', 'Fairview', 'Mount Pleasant',\n",
       "       'Grandview-Woodland', 'Kitsilano', 'Renfrew-Collingwood',\n",
       "       'Kensington-Cedar Cottage', 'Strathcona', 'Hastings-Sunrise', 'Sunset',\n",
       "       'Marpole', 'Riley Park', 'Victoria-Fraserview', 'Killarney', 'Oakridge',\n",
       "       'Dunbar-Southlands', 'UNKNOWN', 'Kerrisdale', 'Arbutus Ridge',\n",
       "       'West Point Grey', 'Shaughnessy', 'South Cambie', 'Stanley Park',\n",
       "       'Musqueam'],\n",
       "      dtype='object', name='NEIGHBOURHOOD')"
      ]
     },
     "execution_count": 9,
     "metadata": {},
     "output_type": "execute_result"
    }
   ],
   "source": [
    "neigh.index"
   ]
  },
  {
   "cell_type": "code",
   "execution_count": 17,
   "id": "39dec2e7",
   "metadata": {},
   "outputs": [
    {
     "data": {
      "text/plain": [
       "array([96171, 36954, 29377, 26879, 24333, 24118, 24092, 22708, 18281,\n",
       "       16378, 15991, 11836, 11164,  9883,  9657,  7221,  7106,  6873,\n",
       "        6766,  5431,  5262,  4773,  4658,  3532,   503])"
      ]
     },
     "execution_count": 17,
     "metadata": {},
     "output_type": "execute_result"
    }
   ],
   "source": [
    "neigh.values"
   ]
  },
  {
   "cell_type": "code",
   "execution_count": 15,
   "id": "610589ef",
   "metadata": {},
   "outputs": [
    {
     "data": {
      "image/png": "[encoded data removed]",
      "text/plain": [
       "<Figure size 1000x600 with 1 Axes>"
      ]
     },
     "metadata": {},
     "output_type": "display_data"
    }
   ],
   "source": [
    "import matplotlib.pyplot as plt\n",
    "import seaborn as sns\n",
    "\n",
    "top_neigh = df['NEIGHBOURHOOD'].value_counts().head(10)\n",
    "\n",
    "plt.figure(figsize=(10,6))\n",
    "sns.barplot(x=top_neigh.index, y = top_neigh.values)\n",
    "plt.title(\"Top 10 Neighbourhoods with crimes\", fontsize =14)\n",
    "plt.xlabel(\"Neighbourhood\")\n",
    "plt.ylabel(\"Number of crimes\")\n",
    "plt.xticks(rotation = 45)\n",
    "plt.show()\n",
    "\n"
   ]
  },
  {
   "cell_type": "code",
   "execution_count": 10,
   "id": "bfb12c41",
   "metadata": {},
   "outputs": [
    {
     "data": {
      "text/plain": [
       "HUNDRED_BLOCK\n",
       "OFFSET TO PROTECT PRIVACY      4747\n",
       "7XX GRANVILLE ST               4148\n",
       "6XX GRANVILLE ST               2876\n",
       "7XX W GEORGIA ST               2141\n",
       "X NK_LOC ST                    2113\n",
       "                               ... \n",
       "TERMINAL AVE / ST GEORGE ST       1\n",
       "W BROADWAY AVE / DUNBAR ST        1\n",
       "W 8TH AVE / MANITOBA ST           1\n",
       "W 7TH AVE / LAUREL ST             1\n",
       "W 70TH AVE / FREMLIN ST           1\n",
       "Name: count, Length: 20567, dtype: int64"
      ]
     },
     "execution_count": 10,
     "metadata": {},
     "output_type": "execute_result"
    }
   ],
   "source": [
    "#crimes with street blocks\n",
    "df['HUNDRED_BLOCK'].value_counts()"
   ]
  },
  {
   "cell_type": "code",
   "execution_count": 12,
   "id": "11c46318",
   "metadata": {},
   "outputs": [
    {
     "name": "stdout",
     "output_type": "stream",
     "text": [
      "HUNDRED_BLOCK\n",
      "OFFSET TO PROTECT PRIVACY    4747\n",
      "7XX GRANVILLE ST             4148\n",
      "6XX GRANVILLE ST             2876\n",
      "7XX W GEORGIA ST             2141\n",
      "X NK_LOC ST                  2113\n",
      "6XX W 41ST AVE               1686\n",
      "17XX E BROADWAY AVE          1579\n",
      "11XX ROBSON ST               1572\n",
      "31XX GRANDVIEW HWY           1526\n",
      "5XX RICHARDS ST              1297\n",
      "Name: count, dtype: int64\n"
     ]
    }
   ],
   "source": [
    "#Top 10 street Blocks with crimes\n",
    "print(df['HUNDRED_BLOCK'].value_counts().head(10))"
   ]
  },
  {
   "cell_type": "code",
   "execution_count": 17,
   "id": "6416a74f",
   "metadata": {},
   "outputs": [
    {
     "data": {
      "image/png": "[encoded data removed]",
      "text/plain": [
       "<Figure size 640x480 with 1 Axes>"
      ]
     },
     "metadata": {},
     "output_type": "display_data"
    }
   ],
   "source": [
    "top_blocks = df['HUNDRED_BLOCK'].value_counts().head(10)\n",
    "sns.barplot(x = top_blocks.index, y = top_blocks.values)\n",
    "plt.title(\"Top 10 Street Blocks with crimes\", fontsize =14)\n",
    "plt.xlabel(\"Street Blocks\")\n",
    "plt.ylabel(\"Number of crimes\")\n",
    "plt.xticks(rotation = 90)\n",
    "plt.show()"
   ]
  },
  {
   "cell_type": "code",
   "execution_count": 48,
   "id": "530facd2",
   "metadata": {},
   "outputs": [
    {
     "data": {
      "image/png": "[encoded data removed]",
      "text/plain": [
       "<Figure size 1200x600 with 1 Axes>"
      ]
     },
     "metadata": {},
     "output_type": "display_data"
    }
   ],
   "source": [
    "#CrimeTypes\n",
    "top_types = df['TYPE'].value_counts().head(10)\n",
    "plt.figure(figsize=(12,6))\n",
    "sns.barplot(x=top_types.index, y=top_types.values)\n",
    "plt.title(\"Top 10 Crime Types\")\n",
    "plt.xticks(rotation=45)\n",
    "plt.show()\n"
   ]
  },
  {
   "cell_type": "code",
   "execution_count": 18,
   "id": "81152b3f",
   "metadata": {},
   "outputs": [
    {
     "data": {
      "text/plain": [
       "Index(['TYPE', 'HUNDRED_BLOCK', 'NEIGHBOURHOOD', 'X', 'Y', 'Latitude',\n",
       "       'Longitude', 'HOUR', 'MINUTE', 'YEAR', 'MONTH', 'DAY', 'Date'],\n",
       "      dtype='object')"
      ]
     },
     "execution_count": 18,
     "metadata": {},
     "output_type": "execute_result"
    }
   ],
   "source": [
    "df.columns"
   ]
  },
  {
   "cell_type": "code",
   "execution_count": 20,
   "id": "1393815c",
   "metadata": {},
   "outputs": [
    {
     "data": {
      "text/plain": [
       "TYPE\n",
       "Theft from Vehicle                                      153932\n",
       "Mischief                                                 63233\n",
       "Break and Enter Residential/Other                        56564\n",
       "Other Theft                                              43593\n",
       "Theft of Vehicle                                         36189\n",
       "Break and Enter Commercial                               30048\n",
       "Theft of Bicycle                                         22110\n",
       "Vehicle Collision or Pedestrian Struck (with Injury)     19531\n",
       "Offence Against a Person                                  4747\n",
       "Name: count, dtype: int64"
      ]
     },
     "execution_count": 20,
     "metadata": {},
     "output_type": "execute_result"
    }
   ],
   "source": [
    "df['TYPE'].value_counts().head(10)"
   ]
  },
  {
   "cell_type": "code",
   "execution_count": 21,
   "id": "bac0c90c",
   "metadata": {},
   "outputs": [
    {
     "data": {
      "image/png": "[encoded data removed]",
      "text/plain": [
       "<Figure size 1000x600 with 1 Axes>"
      ]
     },
     "metadata": {},
     "output_type": "display_data"
    }
   ],
   "source": [
    "top_crimes = df['TYPE'].value_counts().head(10)\n",
    "\n",
    "plt.figure(figsize=(10,6))\n",
    "sns.barplot(x=top_crimes.index, y=top_crimes.values)\n",
    "plt.title(\"Top 10 Crime Types\", fontsize=14)\n",
    "plt.xlabel(\"Crime Type\")\n",
    "plt.ylabel(\"Number of Crimes\")\n",
    "plt.xticks(rotation=90)\n",
    "plt.show()"
   ]
  },
  {
   "cell_type": "code",
   "execution_count": 22,
   "id": "944f52cc",
   "metadata": {},
   "outputs": [
    {
     "data": {
      "text/plain": [
       "Index(['TYPE', 'HUNDRED_BLOCK', 'NEIGHBOURHOOD', 'X', 'Y', 'Latitude',\n",
       "       'Longitude', 'HOUR', 'MINUTE', 'YEAR', 'MONTH', 'DAY', 'Date'],\n",
       "      dtype='object')"
      ]
     },
     "execution_count": 22,
     "metadata": {},
     "output_type": "execute_result"
    }
   ],
   "source": [
    "df.columns "
   ]
  },
  {
   "cell_type": "code",
   "execution_count": 25,
   "id": "3c1216e9",
   "metadata": {},
   "outputs": [
    {
     "data": {
      "text/plain": [
       "Date\n",
       "2007-06-15    0.001430\n",
       "1999-06-20    0.000474\n",
       "2004-03-12    0.000467\n",
       "2000-11-12    0.000428\n",
       "1999-05-16    0.000426\n",
       "                ...   \n",
       "2008-09-26    0.000081\n",
       "2005-12-16    0.000072\n",
       "2004-02-20    0.000072\n",
       "2006-11-24    0.000070\n",
       "2006-04-21    0.000058\n",
       "Name: proportion, Length: 4748, dtype: float64"
      ]
     },
     "execution_count": 25,
     "metadata": {},
     "output_type": "execute_result"
    }
   ],
   "source": [
    "#ensures that date column is datetime format\n",
    "df['Date'] = pd.to_datetime(df['Date'], errors='coerce')\n",
    "df['Date'].value_counts(10)"
   ]
  },
  {
   "cell_type": "code",
   "execution_count": null,
   "id": "128bd8f0",
   "metadata": {},
   "outputs": [
    {
     "name": "stdout",
     "output_type": "stream",
     "text": [
      "YEAR\n",
      "1999    46744\n",
      "2000    45797\n",
      "2001    41203\n",
      "2002    38300\n",
      "2003    33602\n",
      "2004    31519\n",
      "2005    28620\n",
      "2006    26302\n",
      "2007    25042\n",
      "2008    25776\n",
      "2009    25736\n",
      "2010    29844\n",
      "2011    31462\n",
      "dtype: int64\n"
     ]
    }
   ],
   "source": [
    "#Crime per year\n",
    "crimes_per_year = df.groupby('YEAR').size()\n",
    "print(crimes_per_year)"
   ]
  },
  {
   "cell_type": "code",
   "execution_count": 34,
   "id": "9a8b78d4",
   "metadata": {},
   "outputs": [
    {
     "name": "stdout",
     "output_type": "stream",
     "text": [
      "Index : Index([1999, 2000, 2001, 2002, 2003, 2004, 2005, 2006, 2007, 2008, 2009, 2010,\n",
      "       2011],\n",
      "      dtype='int64', name='YEAR')\n",
      "Values : [46744 45797 41203 38300 33602 31519 28620 26302 25042 25776 25736 29844\n",
      " 31462]\n"
     ]
    }
   ],
   "source": [
    "print(f\"Index : {crimes_per_year.index}\")\n",
    "print(f\"Values : {crimes_per_year.values}\")"
   ]
  },
  {
   "cell_type": "code",
   "execution_count": 39,
   "id": "641e0a4d",
   "metadata": {},
   "outputs": [
    {
     "data": {
      "image/png": "[encoded data removed]",
      "text/plain": [
       "<Figure size 1000x600 with 1 Axes>"
      ]
     },
     "metadata": {},
     "output_type": "display_data"
    }
   ],
   "source": [
    "plt.figure(figsize=(10,6))\n",
    "sns.lineplot(x = crimes_per_year.index, y = crimes_per_year.values)\n",
    "plt.title(\"Number of Crimes per Year\", fontsize=14)\n",
    "plt.xlabel(\"year\")\n",
    "plt.ylabel(\"Crimes\")\n",
    "plt.yticks(rotation=90)\n",
    "plt.show()"
   ]
  },
  {
   "cell_type": "code",
   "execution_count": null,
   "id": "3f1058d6",
   "metadata": {},
   "outputs": [
    {
     "name": "stdout",
     "output_type": "stream",
     "text": [
      "MONTH\n",
      "1     35487\n",
      "2     31872\n",
      "3     35378\n",
      "4     34611\n",
      "5     36462\n",
      "6     36638\n",
      "7     36956\n",
      "8     38439\n",
      "9     36950\n",
      "10    37616\n",
      "11    35458\n",
      "12    34080\n",
      "dtype: int64\n"
     ]
    }
   ],
   "source": [
    "#Crimes Per Month\n",
    "crimes_per_month = df.groupby('MONTH').size()\n",
    "print(crimes_per_month)"
   ]
  },
  {
   "cell_type": "code",
   "execution_count": 46,
   "id": "fb342f83",
   "metadata": {},
   "outputs": [
    {
     "data": {
      "image/png": "[encoded data removed]",
      "text/plain": [
       "<Figure size 1000x600 with 1 Axes>"
      ]
     },
     "metadata": {},
     "output_type": "display_data"
    }
   ],
   "source": [
    "plt.figure(figsize=(10,6))\n",
    "sns.barplot(x = crimes_per_month.index, y = crimes_per_month.values)\n",
    "plt.title(\"Number of Crimes per Month\", fontsize=14)\n",
    "plt.xlabel(\"Month\")\n",
    "plt.ylabel(\"Crimes\")\n",
    "plt.show()"
   ]
  },
  {
   "cell_type": "code",
   "execution_count": 47,
   "id": "bdbf3ac4",
   "metadata": {},
   "outputs": [
    {
     "data": {
      "text/plain": [
       "Index(['TYPE', 'HUNDRED_BLOCK', 'NEIGHBOURHOOD', 'X', 'Y', 'Latitude',\n",
       "       'Longitude', 'HOUR', 'MINUTE', 'YEAR', 'MONTH', 'DAY', 'Date'],\n",
       "      dtype='object')"
      ]
     },
     "execution_count": 47,
     "metadata": {},
     "output_type": "execute_result"
    }
   ],
   "source": [
    "df.columns"
   ]
  },
  {
   "cell_type": "code",
   "execution_count": 18,
   "id": "b94aa14f",
   "metadata": {},
   "outputs": [
    {
     "name": "stdout",
     "output_type": "stream",
     "text": [
      "HOUR\n",
      "0     29080\n",
      "1     11564\n",
      "2      9358\n",
      "3      7863\n",
      "4      6999\n",
      "5      6609\n",
      "6      7139\n",
      "7      9623\n",
      "8     14185\n",
      "9     14572\n",
      "10    14082\n",
      "11    14196\n",
      "12    21185\n",
      "13    16351\n",
      "14    18487\n",
      "15    21191\n",
      "16    23130\n",
      "17    28216\n",
      "18    32413\n",
      "19    26310\n",
      "20    24704\n",
      "21    24491\n",
      "22    25938\n",
      "23    22261\n",
      "dtype: int64\n"
     ]
    }
   ],
   "source": [
    "# Hourly Trends\n",
    "crimes_per_hour = df.groupby('HOUR').size()\n",
    "print(crimes_per_hour)"
   ]
  },
  {
   "cell_type": "code",
   "execution_count": 54,
   "id": "45c6601d",
   "metadata": {},
   "outputs": [
    {
     "data": {
      "image/png": "[encoded data removed]",
      "text/plain": [
       "<Figure size 1000x600 with 1 Axes>"
      ]
     },
     "metadata": {},
     "output_type": "display_data"
    }
   ],
   "source": [
    "plt.figure(figsize=(10,6))\n",
    "sns.barplot(x=crimes_per_hour.index, y=crimes_per_hour.values)\n",
    "plt.title(\"Number of Crimes per Hour\", fontsize=14)\n",
    "plt.xlabel(\"Hour of the Day\")\n",
    "plt.ylabel(\"Number of Crimes\")\n",
    "plt.show()"
   ]
  },
  {
   "cell_type": "code",
   "execution_count": 20,
   "id": "3a44c05d",
   "metadata": {},
   "outputs": [
    {
     "name": "stdout",
     "output_type": "stream",
     "text": [
      "DAY\n",
      "1     15279\n",
      "2     14155\n",
      "3     14165\n",
      "4     13990\n",
      "5     14407\n",
      "6     14378\n",
      "7     14831\n",
      "8     14542\n",
      "9     14354\n",
      "10    14524\n",
      "11    14710\n",
      "12    14854\n",
      "13    14662\n",
      "14    14795\n",
      "15    15844\n",
      "16    14626\n",
      "17    14550\n",
      "18    14121\n",
      "19    13943\n",
      "20    14377\n",
      "21    13667\n",
      "22    13615\n",
      "23    13388\n",
      "24    13228\n",
      "25    12651\n",
      "26    12925\n",
      "27    12927\n",
      "28    13105\n",
      "29    12370\n",
      "30    12597\n",
      "31     8367\n",
      "dtype: int64\n"
     ]
    }
   ],
   "source": [
    "# Daily Trends\n",
    "crimes_per_Day = df.groupby('DAY').size()\n",
    "print(crimes_per_Day)"
   ]
  },
  {
   "cell_type": "code",
   "execution_count": 23,
   "id": "8becd463",
   "metadata": {},
   "outputs": [
    {
     "data": {
      "image/png": "[encoded data removed]",
      "text/plain": [
       "<Figure size 1000x600 with 1 Axes>"
      ]
     },
     "metadata": {},
     "output_type": "display_data"
    }
   ],
   "source": [
    "plt.figure(figsize=(10,6))\n",
    "sns.lineplot(x=crimes_per_Day.index, y=crimes_per_Day.values, marker='o')\n",
    "plt.title(\"Number of Crimes per Day\", fontsize=14)\n",
    "plt.xlabel(\"Year\")\n",
    "plt.ylabel(\"Number of Crimes\")\n",
    "plt.show()"
   ]
  },
  {
   "cell_type": "code",
   "execution_count": null,
   "id": "d6a8c3c0",
   "metadata": {},
   "outputs": [],
   "source": [
    "import folium # folium is a powerful python library used for visualising geospatial data on interactive maps\n",
    "from folium.plugins import HeatMap\n",
    "\n",
    "# Base map centered around dataset mean coordinates\n",
    "crime_map = folium.Map(location=[df['Latitude'].mean(), df['Longitude'].mean()],\n",
    "                       zoom_start=12, tiles=\"cartodbpositron\")\n",
    "\n",
    "# Prepare data for heatmap\n",
    "heat_data = df[['Latitude', 'Longitude']].dropna().values.tolist()\n",
    "\n",
    "# Add heatmap layer\n",
    "HeatMap(heat_data, radius=8, blur=6, max_zoom=13).add_to(crime_map)\n",
    "\n",
    "# Save to HTML\n",
    "crime_map.save(\"crime_hotspots.html\")\n"
   ]
  },
  {
   "cell_type": "code",
   "execution_count": 6,
   "id": "5254cdd2",
   "metadata": {},
   "outputs": [
    {
     "data": {
      "image/png": "[encoded data removed]",
      "text/plain": [
       "<Figure size 1000x800 with 1 Axes>"
      ]
     },
     "metadata": {},
     "output_type": "display_data"
    }
   ],
   "source": [
    "import matplotlib.pyplot as plt \n",
    "\n",
    "plt.figure(figsize=(10,8))\n",
    "plt.scatter(df['Longitude'], df['Latitude'], alpha=0.3, s=1)\n",
    "plt.title(\"Crime Locations\")\n",
    "plt.xlabel(\"Longitude\")\n",
    "plt.ylabel(\"Latitude\")\n",
    "plt.show()\n"
   ]
  },
  {
   "cell_type": "code",
   "execution_count": 13,
   "id": "bf19f982",
   "metadata": {},
   "outputs": [],
   "source": [
    "import folium\n",
    "\n",
    "# Start map centered around dataset mean\n",
    "m = folium.Map(location=[df['Latitude'].mean(), df['Longitude'].mean()], zoom_start=12)\n",
    "\n",
    "# Add points\n",
    "for _, row in df.sample(2000).iterrows():  # limit to 2000 for performance\n",
    "    folium.CircleMarker(\n",
    "        location=[row['Latitude'], row['Longitude']],\n",
    "        radius=2,\n",
    "        popup=row['TYPE'],\n",
    "        color=\"red\",\n",
    "        fill=True,\n",
    "        fill_opacity=0.6\n",
    "    ).add_to(m)\n",
    "\n",
    "m.save(\"crime_map.html\")\n"
   ]
  },
  {
   "cell_type": "code",
   "execution_count": 16,
   "id": "d1e4a409",
   "metadata": {},
   "outputs": [
    {
     "data": {
      "text/plain": [
       "Index(['TYPE', 'HUNDRED_BLOCK', 'NEIGHBOURHOOD', 'X', 'Y', 'Latitude',\n",
       "       'Longitude', 'HOUR', 'MINUTE', 'YEAR', 'MONTH', 'DAY', 'Date'],\n",
       "      dtype='object')"
      ]
     },
     "execution_count": 16,
     "metadata": {},
     "output_type": "execute_result"
    }
   ],
   "source": [
    "df.columns"
   ]
  },
  {
   "cell_type": "code",
   "execution_count": 17,
   "id": "7fe3896a",
   "metadata": {},
   "outputs": [
    {
     "ename": "NameError",
     "evalue": "name 'df' is not defined",
     "output_type": "error",
     "traceback": [
      "\u001b[31m---------------------------------------------------------------------------\u001b[39m",
      "\u001b[31mNameError\u001b[39m                                 Traceback (most recent call last)",
      "\u001b[36mCell\u001b[39m\u001b[36m \u001b[39m\u001b[32mIn[2]\u001b[39m\u001b[32m, line 1\u001b[39m\n\u001b[32m----> \u001b[39m\u001b[32m1\u001b[39m minute_trends = \u001b[43mdf\u001b[49m.groupby(\u001b[33m'\u001b[39m\u001b[33mMINUTE\u001b[39m\u001b[33m'\u001b[39m).size()\n\u001b[32m      2\u001b[39m \u001b[38;5;28mprint\u001b[39m(minute_trends)\n",
      "\u001b[31mNameError\u001b[39m: name 'df' is not defined"
     ]
    }
   ],
   "source": [
    "minute_trends = df.groupby('MINUTE').size()\n",
    "print(minute_trends)"
   ]
  },
  {
   "cell_type": "code",
   "execution_count": 3,
   "id": "7c7e5e0f",
   "metadata": {},
   "outputs": [
    {
     "ename": "NameError",
     "evalue": "name 'df' is not defined",
     "output_type": "error",
     "traceback": [
      "\u001b[31m---------------------------------------------------------------------------\u001b[39m",
      "\u001b[31mNameError\u001b[39m                                 Traceback (most recent call last)",
      "\u001b[36mCell\u001b[39m\u001b[36m \u001b[39m\u001b[32mIn[3]\u001b[39m\u001b[32m, line 2\u001b[39m\n\u001b[32m      1\u001b[39m \u001b[38;5;66;03m# Top Crime\u001b[39;00m\n\u001b[32m----> \u001b[39m\u001b[32m2\u001b[39m top_crime = \u001b[43mdf\u001b[49m[\u001b[33m'\u001b[39m\u001b[33mTYPE\u001b[39m\u001b[33m'\u001b[39m].value_counts().head(\u001b[32m1\u001b[39m)\n\u001b[32m      3\u001b[39m \u001b[38;5;28mprint\u001b[39m(top_crime)\n",
      "\u001b[31mNameError\u001b[39m: name 'df' is not defined"
     ]
    }
   ],
   "source": [
    "# Top Crime\n",
    "top_crime = df['TYPE'].value_counts().head(1)\n",
    "print(top_crime)"
   ]
  },
  {
   "cell_type": "markdown",
   "id": "f33078bc",
   "metadata": {},
   "source": [
    "Predictive Modelling"
   ]
  },
  {
   "cell_type": "code",
   "execution_count": 53,
   "id": "47572d32",
   "metadata": {},
   "outputs": [],
   "source": [
    "import pandas as pd\n",
    "\n",
    "# 1️⃣ Make sure 'Date' is a datetime column\n",
    "df['Date'] = pd.to_datetime(df['Date'], errors='coerce')\n",
    "\n",
    "# 2️⃣ Create YEAR_MONTH column\n",
    "df['YEAR_MONTH'] = df['Date'].dt.to_period('M')\n",
    "\n",
    "# 3️⃣ Create full month range from 1999-01 to last month in dataset\n",
    "all_months = pd.period_range(start='1999-01', end=df['YEAR_MONTH'].max(), freq='M')\n",
    "\n",
    "# 4️⃣ Group by YEAR_MONTH to get monthly crime counts\n",
    "monthly_crime = df.groupby('YEAR_MONTH').size().reset_index(name='Crime_count')\n",
    "\n",
    "# 5️⃣ Reindex to include all months, fill missing months with 0 crimes\n",
    "monthly_crime = monthly_crime.set_index('YEAR_MONTH').reindex(all_months, fill_value=0).reset_index()\n",
    "monthly_crime.rename(columns={'index': 'YEAR_MONTH'}, inplace=True)\n",
    "\n",
    "# 6️⃣ Add lag features (previous months' crime counts)\n",
    "for lag in [1, 2, 3, 6, 12]:\n",
    "    monthly_crime[f'Lag_{lag}'] = monthly_crime['Crime_count'].shift(lag)\n",
    "\n",
    "# 7️⃣ Add rolling averages (smoothed crime counts)\n",
    "monthly_crime['Rolling_3'] = monthly_crime['Crime_count'].shift(1).rolling(window=3).mean()\n",
    "monthly_crime['Rolling_6'] = monthly_crime['Crime_count'].shift(1).rolling(window=6).mean()\n",
    "\n",
    "# 8️⃣ Drop rows with NaN values (caused by lag/rolling calculations)\n",
    "monthly_crime = monthly_crime.dropna().reset_index(drop=True)"
   ]
  },
  {
   "cell_type": "code",
   "execution_count": 56,
   "id": "f99ddab8",
   "metadata": {},
   "outputs": [
    {
     "data": {
      "text/plain": [
       "Index(['YEAR_MONTH', 'Crime_count', 'Lag_1', 'Lag_2', 'Lag_3', 'Lag_6',\n",
       "       'Lag_12', 'Rolling_3', 'Rolling_6'],\n",
       "      dtype='object')"
      ]
     },
     "execution_count": 56,
     "metadata": {},
     "output_type": "execute_result"
    }
   ],
   "source": [
    "monthly_crime.columns"
   ]
  },
  {
   "cell_type": "code",
   "execution_count": 57,
   "id": "9ef3f921",
   "metadata": {},
   "outputs": [
    {
     "data": {
      "text/html": [
       "<div>\n",
       "<style scoped>\n",
       "    .dataframe tbody tr th:only-of-type {\n",
       "        vertical-align: middle;\n",
       "    }\n",
       "\n",
       "    .dataframe tbody tr th {\n",
       "        vertical-align: top;\n",
       "    }\n",
       "\n",
       "    .dataframe thead th {\n",
       "        text-align: right;\n",
       "    }\n",
       "</style>\n",
       "<table border=\"1\" class=\"dataframe\">\n",
       "  <thead>\n",
       "    <tr style=\"text-align: right;\">\n",
       "      <th></th>\n",
       "      <th>YEAR_MONTH</th>\n",
       "      <th>Crime_count</th>\n",
       "      <th>Lag_1</th>\n",
       "      <th>Lag_2</th>\n",
       "      <th>Lag_3</th>\n",
       "      <th>Lag_6</th>\n",
       "      <th>Lag_12</th>\n",
       "      <th>Rolling_3</th>\n",
       "      <th>Rolling_6</th>\n",
       "    </tr>\n",
       "  </thead>\n",
       "  <tbody>\n",
       "    <tr>\n",
       "      <th>0</th>\n",
       "      <td>2000-01</td>\n",
       "      <td>3470</td>\n",
       "      <td>3670.0</td>\n",
       "      <td>3653.0</td>\n",
       "      <td>4206.0</td>\n",
       "      <td>3850.0</td>\n",
       "      <td>4089.0</td>\n",
       "      <td>3843.000000</td>\n",
       "      <td>3853.333333</td>\n",
       "    </tr>\n",
       "    <tr>\n",
       "      <th>1</th>\n",
       "      <td>2000-02</td>\n",
       "      <td>3440</td>\n",
       "      <td>3470.0</td>\n",
       "      <td>3670.0</td>\n",
       "      <td>3653.0</td>\n",
       "      <td>4008.0</td>\n",
       "      <td>3296.0</td>\n",
       "      <td>3597.666667</td>\n",
       "      <td>3790.000000</td>\n",
       "    </tr>\n",
       "    <tr>\n",
       "      <th>2</th>\n",
       "      <td>2000-03</td>\n",
       "      <td>3935</td>\n",
       "      <td>3440.0</td>\n",
       "      <td>3470.0</td>\n",
       "      <td>3670.0</td>\n",
       "      <td>3733.0</td>\n",
       "      <td>3644.0</td>\n",
       "      <td>3526.666667</td>\n",
       "      <td>3695.333333</td>\n",
       "    </tr>\n",
       "    <tr>\n",
       "      <th>3</th>\n",
       "      <td>2000-04</td>\n",
       "      <td>3833</td>\n",
       "      <td>3935.0</td>\n",
       "      <td>3440.0</td>\n",
       "      <td>3470.0</td>\n",
       "      <td>4206.0</td>\n",
       "      <td>4002.0</td>\n",
       "      <td>3615.000000</td>\n",
       "      <td>3729.000000</td>\n",
       "    </tr>\n",
       "    <tr>\n",
       "      <th>4</th>\n",
       "      <td>2000-05</td>\n",
       "      <td>3790</td>\n",
       "      <td>3833.0</td>\n",
       "      <td>3935.0</td>\n",
       "      <td>3440.0</td>\n",
       "      <td>3653.0</td>\n",
       "      <td>4386.0</td>\n",
       "      <td>3736.000000</td>\n",
       "      <td>3666.833333</td>\n",
       "    </tr>\n",
       "  </tbody>\n",
       "</table>\n",
       "</div>"
      ],
      "text/plain": [
       "  YEAR_MONTH  Crime_count   Lag_1   Lag_2   Lag_3   Lag_6  Lag_12  \\\n",
       "0    2000-01         3470  3670.0  3653.0  4206.0  3850.0  4089.0   \n",
       "1    2000-02         3440  3470.0  3670.0  3653.0  4008.0  3296.0   \n",
       "2    2000-03         3935  3440.0  3470.0  3670.0  3733.0  3644.0   \n",
       "3    2000-04         3833  3935.0  3440.0  3470.0  4206.0  4002.0   \n",
       "4    2000-05         3790  3833.0  3935.0  3440.0  3653.0  4386.0   \n",
       "\n",
       "     Rolling_3    Rolling_6  \n",
       "0  3843.000000  3853.333333  \n",
       "1  3597.666667  3790.000000  \n",
       "2  3526.666667  3695.333333  \n",
       "3  3615.000000  3729.000000  \n",
       "4  3736.000000  3666.833333  "
      ]
     },
     "execution_count": 57,
     "metadata": {},
     "output_type": "execute_result"
    }
   ],
   "source": [
    "monthly_crime.head()"
   ]
  },
  {
   "cell_type": "code",
   "execution_count": 58,
   "id": "476be2ca",
   "metadata": {},
   "outputs": [
    {
     "data": {
      "text/html": [
       "<div>\n",
       "<style scoped>\n",
       "    .dataframe tbody tr th:only-of-type {\n",
       "        vertical-align: middle;\n",
       "    }\n",
       "\n",
       "    .dataframe tbody tr th {\n",
       "        vertical-align: top;\n",
       "    }\n",
       "\n",
       "    .dataframe thead th {\n",
       "        text-align: right;\n",
       "    }\n",
       "</style>\n",
       "<table border=\"1\" class=\"dataframe\">\n",
       "  <thead>\n",
       "    <tr style=\"text-align: right;\">\n",
       "      <th></th>\n",
       "      <th>YEAR_MONTH</th>\n",
       "      <th>Crime_count</th>\n",
       "      <th>Lag_1</th>\n",
       "      <th>Lag_2</th>\n",
       "      <th>Lag_3</th>\n",
       "      <th>Lag_6</th>\n",
       "      <th>Lag_12</th>\n",
       "      <th>Rolling_3</th>\n",
       "      <th>Rolling_6</th>\n",
       "    </tr>\n",
       "  </thead>\n",
       "  <tbody>\n",
       "    <tr>\n",
       "      <th>139</th>\n",
       "      <td>2011-08</td>\n",
       "      <td>2695</td>\n",
       "      <td>2979.0</td>\n",
       "      <td>2591.0</td>\n",
       "      <td>2558.0</td>\n",
       "      <td>2144.0</td>\n",
       "      <td>2964.0</td>\n",
       "      <td>2709.333333</td>\n",
       "      <td>2468.333333</td>\n",
       "    </tr>\n",
       "    <tr>\n",
       "      <th>140</th>\n",
       "      <td>2011-09</td>\n",
       "      <td>2661</td>\n",
       "      <td>2695.0</td>\n",
       "      <td>2979.0</td>\n",
       "      <td>2591.0</td>\n",
       "      <td>2218.0</td>\n",
       "      <td>2785.0</td>\n",
       "      <td>2755.000000</td>\n",
       "      <td>2560.166667</td>\n",
       "    </tr>\n",
       "    <tr>\n",
       "      <th>141</th>\n",
       "      <td>2011-10</td>\n",
       "      <td>2973</td>\n",
       "      <td>2661.0</td>\n",
       "      <td>2695.0</td>\n",
       "      <td>2979.0</td>\n",
       "      <td>2320.0</td>\n",
       "      <td>2776.0</td>\n",
       "      <td>2778.333333</td>\n",
       "      <td>2634.000000</td>\n",
       "    </tr>\n",
       "    <tr>\n",
       "      <th>142</th>\n",
       "      <td>2011-11</td>\n",
       "      <td>2998</td>\n",
       "      <td>2973.0</td>\n",
       "      <td>2661.0</td>\n",
       "      <td>2695.0</td>\n",
       "      <td>2558.0</td>\n",
       "      <td>2415.0</td>\n",
       "      <td>2776.333333</td>\n",
       "      <td>2742.833333</td>\n",
       "    </tr>\n",
       "    <tr>\n",
       "      <th>143</th>\n",
       "      <td>2011-12</td>\n",
       "      <td>2899</td>\n",
       "      <td>2998.0</td>\n",
       "      <td>2973.0</td>\n",
       "      <td>2661.0</td>\n",
       "      <td>2591.0</td>\n",
       "      <td>2352.0</td>\n",
       "      <td>2877.333333</td>\n",
       "      <td>2816.166667</td>\n",
       "    </tr>\n",
       "  </tbody>\n",
       "</table>\n",
       "</div>"
      ],
      "text/plain": [
       "    YEAR_MONTH  Crime_count   Lag_1   Lag_2   Lag_3   Lag_6  Lag_12  \\\n",
       "139    2011-08         2695  2979.0  2591.0  2558.0  2144.0  2964.0   \n",
       "140    2011-09         2661  2695.0  2979.0  2591.0  2218.0  2785.0   \n",
       "141    2011-10         2973  2661.0  2695.0  2979.0  2320.0  2776.0   \n",
       "142    2011-11         2998  2973.0  2661.0  2695.0  2558.0  2415.0   \n",
       "143    2011-12         2899  2998.0  2973.0  2661.0  2591.0  2352.0   \n",
       "\n",
       "       Rolling_3    Rolling_6  \n",
       "139  2709.333333  2468.333333  \n",
       "140  2755.000000  2560.166667  \n",
       "141  2778.333333  2634.000000  \n",
       "142  2776.333333  2742.833333  \n",
       "143  2877.333333  2816.166667  "
      ]
     },
     "execution_count": 58,
     "metadata": {},
     "output_type": "execute_result"
    }
   ],
   "source": [
    "monthly_crime.tail()"
   ]
  },
  {
   "cell_type": "code",
   "execution_count": 59,
   "id": "9ce606c1",
   "metadata": {},
   "outputs": [
    {
     "data": {
      "text/plain": [
       "(144, 9)"
      ]
     },
     "execution_count": 59,
     "metadata": {},
     "output_type": "execute_result"
    }
   ],
   "source": [
    "monthly_crime.shape"
   ]
  },
  {
   "cell_type": "code",
   "execution_count": 60,
   "id": "4dfcf022",
   "metadata": {},
   "outputs": [
    {
     "data": {
      "text/plain": [
       "YEAR_MONTH     0\n",
       "Crime_count    0\n",
       "Lag_1          0\n",
       "Lag_2          0\n",
       "Lag_3          0\n",
       "Lag_6          0\n",
       "Lag_12         0\n",
       "Rolling_3      0\n",
       "Rolling_6      0\n",
       "dtype: int64"
      ]
     },
     "execution_count": 60,
     "metadata": {},
     "output_type": "execute_result"
    }
   ],
   "source": [
    "monthly_crime.isnull().sum()"
   ]
  },
  {
   "cell_type": "code",
   "execution_count": 62,
   "id": "3cc933b4",
   "metadata": {},
   "outputs": [
    {
     "data": {
      "text/plain": [
       "np.int64(0)"
      ]
     },
     "execution_count": 62,
     "metadata": {},
     "output_type": "execute_result"
    }
   ],
   "source": [
    "monthly_crime.duplicated().sum()"
   ]
  },
  {
   "cell_type": "code",
   "execution_count": 68,
   "id": "45e09259",
   "metadata": {},
   "outputs": [
    {
     "ename": "ModuleNotFoundError",
     "evalue": "No module named 'xgboost'",
     "output_type": "error",
     "traceback": [
      "\u001b[31m---------------------------------------------------------------------------\u001b[39m",
      "\u001b[31mModuleNotFoundError\u001b[39m                       Traceback (most recent call last)",
      "\u001b[36mCell\u001b[39m\u001b[36m \u001b[39m\u001b[32mIn[68]\u001b[39m\u001b[32m, line 1\u001b[39m\n\u001b[32m----> \u001b[39m\u001b[32m1\u001b[39m \u001b[38;5;28;01mfrom\u001b[39;00m\u001b[38;5;250m \u001b[39m\u001b[34;01mxgboost\u001b[39;00m\u001b[38;5;250m \u001b[39m\u001b[38;5;28;01mimport\u001b[39;00m XGBRegressor\n\u001b[32m      2\u001b[39m \u001b[38;5;28;01mfrom\u001b[39;00m\u001b[38;5;250m \u001b[39m\u001b[34;01msklearn\u001b[39;00m\u001b[34;01m.\u001b[39;00m\u001b[34;01mmetrics\u001b[39;00m\u001b[38;5;250m \u001b[39m\u001b[38;5;28;01mimport\u001b[39;00m mean_squared_error, mean_absolute_error\n\u001b[32m      3\u001b[39m \u001b[38;5;28;01mimport\u001b[39;00m\u001b[38;5;250m \u001b[39m\u001b[34;01mnumpy\u001b[39;00m\u001b[38;5;250m \u001b[39m\u001b[38;5;28;01mas\u001b[39;00m\u001b[38;5;250m \u001b[39m\u001b[34;01mnp\u001b[39;00m\n",
      "\u001b[31mModuleNotFoundError\u001b[39m: No module named 'xgboost'"
     ]
    }
   ],
   "source": [
    "from xgboost import XGBRegressor\n",
    "from sklearn.metrics import mean_squared_error, mean_absolute_error\n",
    "import numpy as np\n",
    "\n",
    "\n",
    "#  Train : all months except last 12\n",
    "train = monthly_crime.iloc[:-12]\n",
    "\n",
    "# test last 12 months\n",
    "test = monthly_crime.iloc[-12:]\n",
    "\n",
    "# Features and target\n",
    "X_train = train.drop(['YEAR_MONTH','Crime_count'], axis=1)\n",
    "y_train = train['Crime_count']\n",
    "\n",
    "X_test = test.drop(['YEAR_MONTH','Crime_count'], axis=1)\n",
    "y_test = test['Crime_count']\n",
    "\n",
    "# Train XGBoost model\n",
    "model = XGBRegressor(\n",
    "    n_estimators=200,     # number of trees\n",
    "    learning_rate=0.1,    # how fast the model learns\n",
    "    max_depth=5,          # how deep each tree can go\n",
    "    random_state=42\n",
    ")\n",
    "model.fit(X_train, y_train)\n",
    "\n",
    "# Predictions\n",
    "y_pred = model.predict(X_test)\n",
    "\n",
    "# Evaluation\n",
    "rmse = np.sqrt(mean_squared_error(y_test, y_pred))\n",
    "mae = mean_absolute_error(y_test, y_pred)\n",
    "\n",
    "print(\"RMSE:\", rmse)\n",
    "print(\"MAE:\", mae)\n"
   ]
  },
  {
   "cell_type": "code",
   "execution_count": null,
   "id": "5d408a55",
   "metadata": {},
   "outputs": [],
   "source": [
    "import matplotlib.pyplot as plt\n",
    "\n",
    "plt.figure(figsize=(12,6))\n",
    "plt.plot(train['YEAR_MONTH'], y_train, label=\"Train\")\n",
    "plt.plot(test['YEAR_MONTH'], y_test, label=\"Actual\")\n",
    "plt.plot(test['YEAR_MONTH'], y_pred, label=\"Predicted\", linestyle=\"--\")\n",
    "plt.legend()\n",
    "plt.title(\"Monthly Crime Prediction (XGBoost)\")\n",
    "plt.show()"
   ]
  }
 ],
 "metadata": {
  "kernelspec": {
   "display_name": "newvenv (3.13.7)",
   "language": "python",
   "name": "python3"
  },
  "language_info": {
   "codemirror_mode": {
    "name": "ipython",
    "version": 3
   },
   "file_extension": ".py",
   "mimetype": "text/x-python",
   "name": "python",
   "nbconvert_exporter": "python",
   "pygments_lexer": "ipython3",
   "version": "3.13.7"
  }
 },
 "nbformat": 4,
 "nbformat_minor": 5
}
